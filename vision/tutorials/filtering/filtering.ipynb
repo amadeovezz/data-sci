{
 "cells": [
  {
   "cell_type": "markdown",
   "metadata": {
    "collapsed": true,
    "pycharm": {
     "name": "#%% md\n"
    }
   },
   "source": [
    "# Image Filtering\n",
    "\n",
    "Filtering is a operation we can use to do things to images. Some of these things include blurring, edge detection and extracting relevant features of an image. There are two main\n",
    "types of filtering techniques: cross correlation and convolution. Both are extremely similar, but it is easier to start by explaining cross correlation.\n",
    "\n",
    "## Cross correlation\n",
    "\n",
    "### Intuition\n",
    "\n",
    "It is worth watching an animation of image filtering (can be cross correlation or convolution), and there are a ton of great resources for doing so! This will help us\n",
    "gain some quick intuition.\n",
    "\n",
    "Let us assume that we are now familiar with the visual interpretation of filtering:\n",
    "\n",
    "* An image and a fixed sized 'window' (aka our kernel) sliding over the image, pixel by pixel, in order to generate new\n",
    "intensity values for our image.\n",
    "\n",
    "S, in order to perform a cross correlation, we need an image $I$, a kernel $K$, and our cross correlation operation $\\otimes$\n",
    "\n",
    "Let us break down this process. Why does this operation even make sense? Why is this specific technique used to do things to images?\n",
    "Why do we have this window / kernel thing?\n",
    "\n",
    "Well we briefly listed above that filtering transforms an image into a new image, so in order to even do things\n",
    "to images, we must decide on how we are going to change every pixel. But a single pixel by itself has very little context or meaning.\n",
    "\n",
    "What else do we know about images?\n",
    "\n",
    "**Images are 2d sequences that encode information/signals.** One logical assumption we can make is that in order to extract useful information from any\n",
    "sequence, it is useful to look at neighbouring values in the sequence. Great, so now we know why we have this 'window' sliding across our image.\n",
    "\n",
    "But what about the values inside the window?\n",
    "\n",
    "**Kernels themselves are a 2d sequence that can be used to encode information**. We will soon see how\n",
    "different types of kernels are used, and how the position of certain values is important.\n",
    "\n",
    "So to summarize:\n",
    "\n",
    "1. The size of a kernels tells us `how much` information around our pixel we want to consider\n",
    "2. The contents of a kernel tell us `what type` of transformation we intend to do with the image\n",
    "\n",
    "### The math\n",
    "\n",
    "We know that an image is just a map $I: \\mathbb{R} \\times \\mathbb{R} \\rightarrow \\mathbb{R}$, where the domain represents positional values and our co-domain is the intensity value.\n",
    "In practice the domain/co-domain is a specified range, but here we will still use real numbers.\n",
    "\n",
    "Since the output of the operation is also an image, it to is a map $I_c: \\mathbb{R} \\times \\mathbb{R} \\rightarrow \\mathbb{R}$ and its domain will be the positional values of $I$\n",
    "and its co-domain will be the new intensity values of $I$ after the operation.\n",
    "\n",
    "Our kernel $K$, which is a $2k+1$ by $2k+1$ matrix, where $k>=1$.\n",
    "\n",
    "Cross correlation can therefore be denoted via $I_c(i,j) = I \\otimes K $ and again, note that $I_c()$ is a function of $i,j$, the positional values of our original image.\n",
    "This entire expression is thus:\n",
    "\n",
    "$\n",
    "I_c(i,j) = \\sum\\limits_{u=-k}^{k}\\sum\\limits_{v=-k}^{k}\n",
    "    K(u,v) \\otimes I(i+u,j+v)\n",
    "$\n",
    "\n",
    "Let us parse this expression, since indexing of it makes it a bit hard to read. Recall what we want to do,\n",
    "\n",
    "\n",
    "\n",
    "### Algorithm\n",
    "\n",
    "- The first part is search\n",
    "-\n",
    "\n",
    "\n"
   ]
  },
  {
   "cell_type": "code",
   "execution_count": 1,
   "outputs": [
    {
     "data": {
      "text/plain": "<matplotlib.image.AxesImage at 0x12ed36e48>"
     },
     "execution_count": 1,
     "metadata": {},
     "output_type": "execute_result"
    },
    {
     "data": {
      "text/plain": "<Figure size 720x720 with 1 Axes>",
      "image/png": "[encoded data removed]"
     },
     "metadata": {
      "needs_background": "light"
     },
     "output_type": "display_data"
    }
   ],
   "source": [
    "import numpy as np\n",
    "import cv2 as cv\n",
    "import matplotlib.pyplot as plt\n",
    "import seaborn as sns\n",
    "\n",
    "mario = cv.imread('../images/mario.png')\n",
    "mario = cv.cvtColor(mario, cv.COLOR_BGR2GRAY)\n",
    "mario = mario.astype(float)\n",
    "\n",
    "# Convert image to float\n",
    "plt.figure(figsize = (10,10))\n",
    "plt.imshow(mario, cmap='gray')\n"
   ],
   "metadata": {
    "collapsed": false,
    "pycharm": {
     "name": "#%%\n"
    }
   }
  }
 ],
 "metadata": {
  "kernelspec": {
   "display_name": "Python 3",
   "language": "python",
   "name": "python3"
  },
  "language_info": {
   "codemirror_mode": {
    "name": "ipython",
    "version": 2
   },
   "file_extension": ".py",
   "mimetype": "text/x-python",
   "name": "python",
   "nbconvert_exporter": "python",
   "pygments_lexer": "ipython2",
   "version": "2.7.6"
  }
 },
 "nbformat": 4,
 "nbformat_minor": 0
}