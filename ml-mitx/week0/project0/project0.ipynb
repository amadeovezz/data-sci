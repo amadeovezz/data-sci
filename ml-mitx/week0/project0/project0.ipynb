{
 "cells": [
  {
   "cell_type": "code",
   "execution_count": 34,
   "metadata": {
    "collapsed": true
   },
   "outputs": [
    {
     "data": {
      "text/plain": "array([[0.81947983]])"
     },
     "execution_count": 34,
     "metadata": {},
     "output_type": "execute_result"
    }
   ],
   "source": [
    "import numpy as np\n",
    "\n",
    "# TODO: import this properly\n",
    "from excerises import hw\n",
    "import importlib\n",
    "importlib.reload(hw)\n",
    "\n",
    "normal_vec = np.array([-1, -1])\n",
    "x4_vector = np.array([-10, 4])\n",
    "x5_vector = np.array([-4, -10])\n",
    "\n",
    "multi_array = np.array([[2,2,3],[2,2,3]])\n",
    "multi_array.shape\n",
    "multi_array.transpose()\n",
    "\n",
    "hw.randomization(10)\n",
    "hw.operations(2,3)\n",
    "hw.norm(hw.operations(2,3), hw.operations(2,3))\n",
    "\n",
    "input_vector = hw.randomization(2)\n",
    "weight_vector = hw.randomization(2)\n",
    "hw.neural_network(input_vector, weight_vector)\n",
    "\n",
    "\n"
   ]
  },
  {
   "cell_type": "code",
   "execution_count": null,
   "outputs": [],
   "source": [],
   "metadata": {
    "collapsed": false,
    "pycharm": {
     "name": "#%%\n"
    }
   }
  },
  {
   "cell_type": "markdown",
   "source": [],
   "metadata": {
    "collapsed": false,
    "pycharm": {
     "name": "#%% md\n"
    }
   }
  }
 ],
 "metadata": {
  "kernelspec": {
   "display_name": "Python 3",
   "language": "python",
   "name": "python3"
  },
  "language_info": {
   "codemirror_mode": {
    "name": "ipython",
    "version": 2
   },
   "file_extension": ".py",
   "mimetype": "text/x-python",
   "name": "python",
   "nbconvert_exporter": "python",
   "pygments_lexer": "ipython2",
   "version": "2.7.6"
  }
 },
 "nbformat": 4,
 "nbformat_minor": 0
}