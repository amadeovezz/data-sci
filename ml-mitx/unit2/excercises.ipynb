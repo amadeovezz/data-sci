{
 "cells": [
  {
   "cell_type": "code",
   "execution_count": 19,
   "outputs": [
    {
     "name": "stdout",
     "output_type": "stream",
     "text": [
      "y = 0 - 0x + 1z + 2t  \n",
      "difference: 0.0\n",
      "loss value: 1.0\n",
      "difference: -0.2999999999999998\n",
      "loss value: 1.2999999999999998\n",
      "difference: 0.30000000000000004\n",
      "loss value: 0.7\n",
      "difference: -1.0\n",
      "loss value: 2.0\n",
      "total loss: 5.0\n",
      "average loss : 1.25\n",
      "1.25\n"
     ]
    }
   ],
   "source": [
    "import logging\n",
    "import sys\n",
    "\n",
    "import numpy as np\n",
    "import pandas as pd\n",
    "\n",
    "from ml.regression import models, validate\n",
    "\n",
    "from importlib import reload\n",
    "reload(validate)\n",
    "reload(models)\n",
    "reload(logging)\n",
    "\n",
    "\n",
    "data = [\n",
    "    [np.array([1,0,1]), 2]\n",
    "    , [np.array([1, 1, 1]), 2.7]\n",
    "    , [np.array([1, 1, -1]), -.7]\n",
    "    , [np.array([-1, 1, 1]), 2]\n",
    "]\n",
    "\n",
    "# Run the perception algorithm and generate a classifier\n",
    "training_data = pd.DataFrame(data, columns=['features', 'observed_value'])\n",
    "logging.basicConfig(stream=sys.stdout, format='%(message)s',level=logging.DEBUG)\n",
    "\n",
    "m = models.LinearRegression(np.array([0,1,2]))\n",
    "print(m)\n",
    "error = validate.average_loss(training_data, m)\n",
    "print(error)\n",
    "\n"
   ],
   "metadata": {
    "collapsed": false,
    "pycharm": {
     "name": "#%%\n"
    }
   }
  },
  {
   "cell_type": "code",
   "execution_count": null,
   "outputs": [],
   "source": [],
   "metadata": {
    "collapsed": false,
    "pycharm": {
     "name": "#%%\n"
    }
   }
  }
 ],
 "metadata": {
  "kernelspec": {
   "display_name": "Python 3",
   "language": "python",
   "name": "python3"
  },
  "language_info": {
   "codemirror_mode": {
    "name": "ipython",
    "version": 2
   },
   "file_extension": ".py",
   "mimetype": "text/x-python",
   "name": "python",
   "nbconvert_exporter": "python",
   "pygments_lexer": "ipython2",
   "version": "2.7.6"
  }
 },
 "nbformat": 4,
 "nbformat_minor": 0
}