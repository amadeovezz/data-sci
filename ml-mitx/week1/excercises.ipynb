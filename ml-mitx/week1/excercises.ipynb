{
 "cells": [
  {
   "cell_type": "code",
   "execution_count": 23,
   "metadata": {
    "collapsed": true
   },
   "outputs": [
    {
     "name": "stdout",
     "output_type": "stream",
     "text": [
      "Iteration through training set: 1 \n",
      "\n",
      "Iteration through feature 1 - vector: [1 0], label: -1, theta: [0 0]\n",
      "Theta dot feature: 0, label: -1, product: 0\n",
      "Boundary check failed!\n",
      "Updated theta...\n",
      "\n",
      "Iteration through feature 2 - vector: [-1.   1.5], label: 1, theta: [-1  0]\n",
      "Theta dot feature: 1.0, label: 1, product: 1.0\n",
      "Boundary check passed!\n",
      "\n",
      "Iteration through feature 3 - vector: [-1 -1], label: 1, theta: [-1  0]\n",
      "Theta dot feature: 1, label: 1, product: 1\n",
      "Boundary check passed!\n",
      "\n",
      "Number of errors found during iteration of training set: 1\n",
      "-------------------------------------------------\n",
      "\n",
      "Iteration through training set: 2 \n",
      "\n",
      "Iteration through feature 1 - vector: [1 0], label: -1, theta: [-1  0]\n",
      "Theta dot feature: -1, label: -1, product: 1\n",
      "Boundary check passed!\n",
      "\n",
      "Iteration through feature 2 - vector: [-1.   1.5], label: 1, theta: [-1  0]\n",
      "Theta dot feature: 1.0, label: 1, product: 1.0\n",
      "Boundary check passed!\n",
      "\n",
      "Iteration through feature 3 - vector: [-1 -1], label: 1, theta: [-1  0]\n",
      "Theta dot feature: 1, label: 1, product: 1\n",
      "Boundary check passed!\n",
      "\n",
      "No errors found during iteration of training set...\n",
      "\n",
      "Algorithm complete...\n",
      "\n",
      "Summary\n",
      "----------------------------\n",
      "Iterations until convergence: 2\n",
      "Total errors found: 1\n",
      "List of thetas used: [[-1, 0]]\n"
     ]
    }
   ],
   "source": [
    "import numpy as np\n",
    "import pandas as pd\n",
    "\n",
    "data = [\n",
    "     [np.array([1, 0]), -1]\n",
    "    ,[np.array([-1, 1.5]), 1]\n",
    "    , [np.array([-1, -1]), 1]\n",
    "    ]\n",
    "\n",
    "\n",
    "df = pd.DataFrame(data, columns=['feature', 'label'])\n",
    "\n",
    "theta = np.array([0,0])\n",
    "all_thetas = []\n",
    "t = 4 # max_num_of_iterations_of_training_set\n",
    "iterations_until_convergence = 0\n",
    "total_errors_found = 0\n",
    "\n",
    "for runs in range(1,t):\n",
    "    print(f'Iteration through training set: {runs} \\n')\n",
    "    errors = 0\n",
    "    for i, row in df.iterrows():\n",
    "        print(f'Iteration through feature {i+1} - vector: {row.feature}, label: {row.label}, theta: {theta}')\n",
    "        theta_dot_feature =  theta @ row.feature\n",
    "        print(  f'Theta dot feature: {theta_dot_feature},'\n",
    "                f' label: {row.label},'\n",
    "                f' product: {theta_dot_feature * row.label}')\n",
    "        if theta_dot_feature*row.label <= 0:\n",
    "            print(f'Boundary check failed!')\n",
    "            theta = theta + (row.label * row.feature)\n",
    "            all_thetas.append(theta.tolist())\n",
    "            print(f'Updated theta...\\n')\n",
    "            errors += 1\n",
    "            total_errors_found += 1\n",
    "        else:\n",
    "            print(f'Boundary check passed!\\n')\n",
    "\n",
    "    if errors == 0:\n",
    "        iterations_until_convergence = runs\n",
    "        print(f'No errors found during iteration of training set...\\n')\n",
    "        print(f'Algorithm complete...\\n')\n",
    "        break\n",
    "    else:\n",
    "        print(f'Number of errors found during iteration of training set: {errors}')\n",
    "        print(f'-------------------------------------------------\\n')\n",
    "\n",
    "print(f'Summary\\n----------------------------')\n",
    "print(f'Iterations until convergence: {runs}')\n",
    "print(f'Total errors found: {total_errors_found}')\n",
    "print(f'List of thetas used: {all_thetas}')\n"
   ]
  },
  {
   "cell_type": "code",
   "execution_count": null,
   "outputs": [],
   "source": [],
   "metadata": {
    "collapsed": false,
    "pycharm": {
     "name": "#%%\n"
    }
   }
  }
 ],
 "metadata": {
  "kernelspec": {
   "display_name": "Python 3",
   "language": "python",
   "name": "python3"
  },
  "language_info": {
   "codemirror_mode": {
    "name": "ipython",
    "version": 2
   },
   "file_extension": ".py",
   "mimetype": "text/x-python",
   "name": "python",
   "nbconvert_exporter": "python",
   "pygments_lexer": "ipython2",
   "version": "2.7.6"
  }
 },
 "nbformat": 4,
 "nbformat_minor": 0
}