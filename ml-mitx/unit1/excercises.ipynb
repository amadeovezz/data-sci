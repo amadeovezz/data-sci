{
 "cells": [
  {
   "cell_type": "code",
   "execution_count": 98,
   "metadata": {
    "collapsed": true
   },
   "outputs": [
    {
     "name": "stdout",
     "output_type": "stream",
     "text": [
      "{'classifier': <ml.classifiers.linear.Classifier object at 0x12152fd68>, 'training_iterations_until_convergence': 2, 'total_errors': 2, 'thetas': [array([-1, -1]), array([-2. ,  0.5])]}\n",
      "0.0\n"
     ]
    }
   ],
   "source": [
    "import numpy as np\n",
    "import pandas as pd\n",
    "\n",
    "import logging\n",
    "\n",
    "# TODO: import this properly\n",
    "from ml.classifiers import linear\n",
    "import importlib\n",
    "importlib.reload(linear)\n",
    "\n",
    "data = [\n",
    "     [np.array([-1, -1]), 1]\n",
    "    , [np.array([1, 0]), -1]\n",
    "    , [np.array([-1, 1.5]), 1]\n",
    "]\n",
    "\n",
    "# Run the perception algorithm and generate a classifier\n",
    "training_data = pd.DataFrame(data, columns=['features', 'label'])\n",
    "logging.basicConfig(format='%(message)',level=logging.ERROR)\n",
    "\n",
    "results = linear.perceptron(training_data, 4)\n",
    "print(results)\n",
    "classifier = results['classifier']\n",
    "\n",
    "# Check for training errors\n",
    "errors = linear.training_errors(training_data,classifier)\n",
    "print(errors)\n",
    "\n"
   ]
  },
  {
   "cell_type": "code",
   "execution_count": 97,
   "outputs": [
    {
     "name": "stdout",
     "output_type": "stream",
     "text": [
      "Min value from objective function: 0.0499999999999999, Thetas: (-2.2,-0.8999999999999999)\n",
      "\n",
      "Number of classified errors: 0.0\n"
     ]
    }
   ],
   "source": [
    "import matplotlib.pyplot as plt\n",
    "from mpl_toolkits import mplot3d\n",
    "\n",
    "\n",
    "# Brute force numerical optimization\n",
    "\n",
    "# Create many possible thetas with a 1x2 array\n",
    "thetas = np.mgrid[-3:3:.1, -3:3:.1].reshape(2,-1).T\n",
    "results = []\n",
    "\n",
    "for theta in thetas:\n",
    "    output = linear.objective_function(training_data,theta)\n",
    "    results.append([theta[0],theta[1],output])\n",
    "\n",
    "theta_x = np.array([result[0] for result in results])\n",
    "theta_y = np.array([result[1] for result in results])\n",
    "objective = np.array([result[2] for result in results])\n",
    "\n",
    "# Find min\n",
    "index_min = np.argmin(objective[np.nonzero(objective)])\n",
    "normal_x, normal_y, min = results[index_min]\n",
    "print(f'Min value from objective function: {min}, Thetas: ({normal_x},{normal_y})\\n')\n",
    "\n",
    "# Test classifier with values\n",
    "objective_classifier = linear.Classifier(theta=np.array((normal_x,normal_y)))\n",
    "errors = linear.training_errors(training_data,objective_classifier)\n",
    "print(f'Number of classified errors: {errors}')\n",
    "\n"
   ],
   "metadata": {
    "collapsed": false,
    "pycharm": {
     "name": "#%%\n"
    }
   }
  },
  {
   "cell_type": "code",
   "execution_count": null,
   "outputs": [],
   "source": [
    "\n",
    "# Plot\n",
    "# fig = plt.figure(figsize=(15, 12), dpi=80)\n",
    "# ax = plt.axes(projection='3d')\n",
    "\n",
    "# # Creating color map\n",
    "# my_cmap = plt.get_cmap('hot')\n",
    "#\n",
    "# # Creating plot\n",
    "# trisurf = ax.plot_trisurf(theta_x, theta_y, objective,\n",
    "#                           cmap = my_cmap,\n",
    "#                           linewidth = 0.2,\n",
    "#                           antialiased = True,\n",
    "#                           edgecolor = 'grey')\n",
    "# fig.colorbar(trisurf, ax = ax, shrink = 0.5, aspect = 5)\n",
    "# ax.set_title('Tri-Surface plot')\n",
    "#\n",
    "# # Adding labels\n",
    "# ax.set_xlabel('X-axis', fontweight ='bold')\n",
    "# ax.set_ylabel('Y-axis', fontweight ='bold')\n",
    "# ax.set_zlabel('Z-axis', fontweight ='bold')\n",
    "#\n",
    "# # show plot\n",
    "# plt.show()\n"
   ],
   "metadata": {
    "collapsed": false,
    "pycharm": {
     "name": "#%%\n"
    }
   }
  }
 ],
 "metadata": {
  "kernelspec": {
   "display_name": "Python 3",
   "language": "python",
   "name": "python3"
  },
  "language_info": {
   "codemirror_mode": {
    "name": "ipython",
    "version": 2
   },
   "file_extension": ".py",
   "mimetype": "text/x-python",
   "name": "python",
   "nbconvert_exporter": "python",
   "pygments_lexer": "ipython2",
   "version": "2.7.6"
  }
 },
 "nbformat": 4,
 "nbformat_minor": 0
}