{
 "cells": [
  {
   "cell_type": "code",
   "execution_count": 3,
   "outputs": [
    {
     "ename": "IndentationError",
     "evalue": "unindent does not match any outer indentation level (project1.py, line 124)",
     "output_type": "error",
     "traceback": [
      "Traceback \u001B[0;36m(most recent call last)\u001B[0m:\n",
      "  File \u001B[1;32m\"/Users/deo/Dev/data-sci/venv/lib/python3.7/site-packages/IPython/core/interactiveshell.py\"\u001B[0m, line \u001B[1;32m3552\u001B[0m, in \u001B[1;35mrun_code\u001B[0m\n    exec(code_obj, self.user_global_ns, self.user_ns)\n",
      "  File \u001B[1;32m\"/var/folders/tt/jf8cp76s0dvc81qt5lf6h7_40000gn/T/ipykernel_55835/738331298.py\"\u001B[0m, line \u001B[1;32m10\u001B[0m, in \u001B[1;35m<module>\u001B[0m\n    importlib.reload(project1)\n",
      "  File \u001B[1;32m\"/Library/Developer/CommandLineTools/Library/Frameworks/Python3.framework/Versions/3.7/lib/python3.7/importlib/__init__.py\"\u001B[0m, line \u001B[1;32m169\u001B[0m, in \u001B[1;35mreload\u001B[0m\n    _bootstrap._exec(spec, module)\n",
      "  File \u001B[1;32m\"<frozen importlib._bootstrap>\"\u001B[0m, line \u001B[1;32m630\u001B[0m, in \u001B[1;35m_exec\u001B[0m\n",
      "  File \u001B[1;32m\"<frozen importlib._bootstrap_external>\"\u001B[0m, line \u001B[1;32m724\u001B[0m, in \u001B[1;35mexec_module\u001B[0m\n",
      "  File \u001B[1;32m\"<frozen importlib._bootstrap_external>\"\u001B[0m, line \u001B[1;32m860\u001B[0m, in \u001B[1;35mget_code\u001B[0m\n",
      "  File \u001B[1;32m\"<frozen importlib._bootstrap_external>\"\u001B[0m, line \u001B[1;32m791\u001B[0m, in \u001B[1;35msource_to_code\u001B[0m\n",
      "\u001B[0;36m  File \u001B[0;32m\"<frozen importlib._bootstrap>\"\u001B[0;36m, line \u001B[0;32m219\u001B[0;36m, in \u001B[0;35m_call_with_frames_removed\u001B[0;36m\u001B[0m\n",
      "\u001B[0;36m  File \u001B[0;32m\"/Users/deo/Dev/data-sci/ml-mitx/unit1/project/sentiment_analysis/project1.py\"\u001B[0;36m, line \u001B[0;32m124\u001B[0m\n\u001B[0;31m    theta = np.array()\u001B[0m\n\u001B[0m                      ^\u001B[0m\n\u001B[0;31mIndentationError\u001B[0m\u001B[0;31m:\u001B[0m unindent does not match any outer indentation level\n"
     ]
    }
   ],
   "source": [
    "import pandas as pd\n",
    "import numpy as np\n",
    "\n",
    "import logging\n",
    "\n",
    "\n",
    "# TODO: import this properly\n",
    "from sentiment_analysis import project1\n",
    "import importlib\n",
    "importlib.reload(project1)\n",
    "\n",
    "data = [\n",
    "    [np.array([-1, -1]), 1]\n",
    "    , [np.array([1, 0]), -1]\n",
    "    , [np.array([-1, 1.5]), 1]\n",
    "]\n",
    "\n",
    "# Run the perception algorithm and generate a classifier\n",
    "training_data = pd.DataFrame(data, columns=['features', 'label'])\n",
    "logging.basicConfig(format='%(message)',level=logging.ERROR)\n",
    "\n",
    "feature_vect = np.array([[-1, -1],[1,2]])\n",
    "label = 12\n",
    "theta = np.array([-1, -1])\n",
    "theta_0 = 0\n",
    "\n",
    "\n",
    "for i, row in enumerate(feature_vect):\n",
    "    print(row)\n",
    "    print(i)\n",
    "\n",
    "np.array((1,9))"
   ],
   "metadata": {
    "collapsed": false,
    "pycharm": {
     "name": "#%%\n"
    }
   }
  },
  {
   "cell_type": "code",
   "execution_count": null,
   "outputs": [],
   "source": [],
   "metadata": {
    "collapsed": false,
    "pycharm": {
     "name": "#%%\n"
    }
   }
  },
  {
   "cell_type": "code",
   "execution_count": null,
   "outputs": [],
   "source": [],
   "metadata": {
    "collapsed": false,
    "pycharm": {
     "name": "#%%\n"
    }
   }
  }
 ],
 "metadata": {
  "kernelspec": {
   "display_name": "Python 3",
   "language": "python",
   "name": "python3"
  },
  "language_info": {
   "codemirror_mode": {
    "name": "ipython",
    "version": 2
   },
   "file_extension": ".py",
   "mimetype": "text/x-python",
   "name": "python",
   "nbconvert_exporter": "python",
   "pygments_lexer": "ipython2",
   "version": "2.7.6"
  }
 },
 "nbformat": 4,
 "nbformat_minor": 0
}