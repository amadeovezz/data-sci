{
 "cells": [
  {
   "cell_type": "markdown",
   "metadata": {
    "collapsed": true,
    "pycharm": {
     "name": "#%% md\n"
    }
   },
   "source": [
    "# Naive Bayes\n",
    "\n",
    "## Problem\n",
    "\n",
    "We will continue our classification problem from our EDA. To start we will only focus on using one discrete feature to make our classification:\n",
    "\n",
    "- geographic location\n",
    "\n",
    "## Choosing a model\n",
    "\n",
    "How can we come up with a probabilistic model to make our classification?\n",
    "\n",
    "Well let us think about what data we have. We have observed samples of crocodiles and alligators in a variety of geographic locations.\n",
    "And we want to use this geographic data to build a model, that helps us distinguish between the two species.\n",
    "\n",
    "So, we want to determine the probability of a crocodile (or alligator), given that we have observed some data about its geographic location. Additionally, we\n",
    "probably want to compare this value to the probability that we have an alligator, given we know its geographic location.\n",
    "\n",
    "We can translate this directly into a probabilistic statement: $P(\\text{Species} | \\text{Location})$. In general, for these types of problems, we have $P(\\text{Class} | \\text{Data / Evidence})$.\n",
    "\n",
    "And for a specific instance:\n",
    "\n",
    "$P(\\text{Species=Alligator} | \\text{Location=US})$ vs $P(\\text{Species=Alligator} | \\text{Location=US})$\n",
    "\n",
    "By bayes rules we have:\n",
    "\n",
    "$P(\\text{Species=Crocodile} | \\text{Location=US}) = \\dfrac{P(\\text{Species=Crocodile} \\cap \\text{Location}) }{P(\\text{Location=US})}$ and\n",
    "\n",
    "$P(\\text{Species=Alligator} | \\text{Location=US}) = \\dfrac{P(\\text{Species=Alligator} \\cap \\text{Location}) }{P(\\text{Location=US})}$\n",
    "\n",
    "And to determine whether the animal we are looking at is a crocodile or alligator we can just choose the larger probability!\n",
    "\n",
    "Notice that the numerator of our equation does not change in either instances? This value will not affect our comparison in any way.\n",
    "Therefore, we can just focus on numerator: $P(\\text{Crocodile} \\cap \\text{Location})$\n",
    "\n",
    "#### Joint probabilities and the chain rule\n",
    "\n",
    "$P(\\text{Species} \\cap \\text{Location})$\n",
    "\n",
    "This object is referred to as the joint probability, and is the central object of focus in many problems. There are some issues with the joint probability\n",
    "however!\n",
    "\n",
    "It can be very difficult to calculate! Both in terms of size requirements and data availability.\n",
    "\n",
    "[//]: # (TODO: Let us give a concrete example. Say we have $P(X_1, X_2,)...$)\n",
    "\n",
    "It is often much more common to decompose this object into many smaller objects, which are much more manageable to compute. This is done using the chain or product rule. There\n",
    "are two equivalent ways to re-write this statement:\n",
    "\n",
    "- $P(\\text{Species}) * P( \\text{Location} | \\text{Species})$\n",
    "- $P(\\text{Location}) * P( \\text{Species} | \\text{Location})$\n",
    "\n",
    "Which one do we choose? In the previous section we already established that we are ultimately trying to calculate $P(\\text{Species} | \\text{Location})$, so it would be redundant\n",
    "to include this in numerator. So the answer is $P(\\text{Species}) * P( \\text{Location} | \\text{Species})$. However, it is worth taking a bit of time to differentiate the two as\n",
    "this is a large point of confusion. In fact there is a fallacy associated with this confusion: https://en.wikipedia.org/wiki/Confusion_of_the_inverse.\n",
    "\n",
    "$P( \\text{Location} | \\text{Species})$ says, 'I want the probability of the location I am in given that I know the species'\n",
    "$P( \\text{Species} | \\text{Location})$ says, 'I want the probability of the species given I know our location.'\n",
    "\n",
    "In our case, the joint probability is ultimately an intersection of two sample spaces, and the conditional tells us what subset of this sample space we should choose. A simple example with small\n",
    "sample spaces can help illustrate:\n",
    "\n",
    "$\\text{Species} = \\{ \\text{Croc}, \\text{Alligator} \\} $,  $\\text{Location} = \\{ \\text{US}, \\text{Australia}, \\text{Mexio}  \\} $\n",
    "\n",
    "$\\text{Location}  \\times \\text{Species} = \\{ (\\text{US}, \\text{Croc}), (\\text{US}, \\text{Alligator}), (\\text{Australia}, \\text{Croc}), (\\text{Australia}, \\text{Alligator}), (\\text{Mexico}, \\text{Croc}), (\\text{Mexico}, \\text{Alligator}) \\} $\n",
    "\n",
    "In terms of the subsets that are chosen:\n",
    "\n",
    "$P(\\text{Croc} |  \\text{US}) = \\dfrac{ P( \\{  (\\text{US}, \\text{Croc}), (\\text{US}, \\text{Alligator}) \\} ) }{ P(\\text{US})  } $\n",
    "\n",
    "vs\n",
    "\n",
    "$P(\\text{US} |  \\text{Croc}) = \\dfrac{P(  \\{ (\\text{US}, \\text{Croc}), (\\text{Australia}, \\text{Croc}), (\\text{Mexico}, \\text{Croc}) \\}  )}{ P(\\text{Croc})} $\n",
    "\n",
    "We can see how the two expressions are in fact both very different. In order to eliminate confusion it is helpful, to convert the probabilities into language, that makes\n",
    "it easy to distinguish between the two statements (As we've done above - Ie: 'I want the probability of the location I am in given that I know the species').\n",
    "\n",
    "It is also worth noting that part of the power of factorizing the joint, is that we can choose a conditional probability that is easier to calculate.\n",
    "\n",
    "Okay great! So this these are the probabilities we would like to calculate.\n",
    "\n",
    "- $P(\\text{Crocodile})$ is called our prior\n",
    "- $P( \\text{Location} | \\text{Crocodile})$ is called the likelihood\n",
    "\n",
    "Note will just focus on calculating the probability for crocodiles since the probability for alligators will also follow the same logic.\n"
   ]
  },
  {
   "cell_type": "markdown",
   "source": [
    "## Calculating Probabilities\n",
    "\n",
    "So we know the probabilities we would like to calculate. Before we continue let us get a bit more rigorous so we can extend these ideas to more complicated problems in the future.\n",
    "\n",
    "### Sample space and random variables\n",
    "\n",
    "What is our sample space?\n",
    "\n",
    "Well we have two sets, the first is just the possible classes our species belong to:  $\\text{Species} = \\{ \\text{croc}, \\text{alligator} \\}$.\n",
    "\n",
    "The second is the possible geographic locations crocs/gators live: $\\text{Location} = \\{ \\text{us}, \\text{mexico}, \\text{africa}, \\text{south-east asia}, \\text{australia},  \\text{south-america} \\}$,\n",
    "\n",
    "It is useful to encode the possible outcomes of our sets as real numbers, so we can define some random variables $S$, $L$  on our sets.\n",
    "\n",
    "Let $s \\in \\text{Species}, l \\in \\text{Location}$\n",
    "\n",
    "$\n",
    "S(s) =\n",
    "\\begin{cases}\n",
    "          1, & \\text{ } s = \\text{croc} , \\\\\n",
    "          0, & \\text{ } s = \\text{alligator}   \\\\\n",
    "  \\end{cases}\n",
    "$\n",
    "\n",
    "and\n",
    "\n",
    "$\n",
    "L(l) =\n",
    "\\begin{cases}\n",
    "          5, & \\text{ } l = \\text{us} , \\\\\n",
    "          4, & \\text{ } l = \\text{mexico} , \\\\\n",
    "          3, & \\text{ } l = \\text{africa} , \\\\\n",
    "          2, & \\text{ } l = \\text{south-east asia} , \\\\\n",
    "          1, & \\text{ } l = \\text{australia}   \\\\\n",
    "          0, & \\text{ } l = \\text{south-america}   \\\\\n",
    "  \\end{cases}\n",
    "$\n",
    "\n",
    "\n",
    "What distributions can we use to model our sample spaces?\n",
    "\n",
    "Well for our $\\text{Species}$ outcomes, we just need to model two states, and in our $\\text{Location}$ outcomes, we need to model 6 states.\n",
    "\n",
    "We can use the Bernoulli distribution for the former and the Categorical for the latter.\n",
    "\n",
    "### Bernoulli\n",
    "\n",
    "Okay great! Now the only thing left to do is determine the parameters for our distributions. For our Bernoulli distribution we just need a parameter $p$.\n",
    "\n",
    "Once we have $p$, we can use the PMF:\n",
    "\n",
    "$\n",
    "P(S) = p^{S} * (1-p)^{1 - S}\n",
    "$\n",
    "\n",
    "Where\n",
    "$\n",
    "P(S(s)=1) = p^{1} * (1-p)^{1 - 1} =  p\n",
    "$\n",
    "and\n",
    "$\n",
    "P(S(s)=0) = p^{0} * (1-p)^{1 - 0} = 1-p\n",
    "$\n",
    "\n",
    "But how exactly do we determine what $p$ is? We don't actually know the true proportion of crocodiles to alligators in the world. All we have is some data that\n",
    "was collected by some agents in the field. This means we must estimate this parameter somehow! We will use a technique called the Maximum Likelihood Estimation (MLE).\n",
    "\n",
    "#### Likelihood\n",
    "\n",
    "Note: This is a deep topic, so we will only do a shallow dive here.\n",
    "\n",
    "The main idea behind this technique, is we will look at the data we have, and choose a parameter (in this case $p$), that \"most likely fits\" what we have observed. What does \"most likely fits\"\n",
    "even mean? Let us look at a concrete example. Say that our the sample of crocodiles and alligators looks like this - that is a sequence of $1$'s for crocodiles and $0$'s for alligators:\n",
    "\n",
    "$\\text{Data} = \\{1,1,1,1,0\\}$\n",
    "\n",
    "One question we can ask is: What is the probability of observing this particular sequence? Well in order to answer this question, we need two things:\n",
    "\n",
    "- $P(S=1)$ and $P(S=0)$, so $p$\n",
    "- i.i.d assumption\n",
    "\n",
    "Let us assume that we do have both the probability and the i.i.d assumption. Then all we need to do is:\n",
    "\n",
    "$P(S=1)^4 * P(S=0)^1 = \\prod\\limits_{i=0}^n P(S_i)$\n",
    "\n",
    "This calculation is known as the likelihood of a dataset.\n",
    "\n",
    "Now let us think for a second. If we had to guess $p$, what value do we think would best represent this data set. Or in other words, what value of $p$ would likely\n",
    "fit this data set? Well there are $4 \\text{ crocodile}$ observations and $1 \\text{ alligator}$ observation. Since there are far more $\\text{crocodiles}$ then $\\text{alligators}$,\n",
    "a reasonable guess might be a high value of $p$, maybe $p=.7$. Our reasoning here is that a Bernoulli distribution where $p$ is high means that there is a greater probability\n",
    "of sampling a crocodile. And indeed this would be a good guess.\n",
    "\n",
    "##### Maximizing likelihood\n",
    "\n",
    "Now that we have some intuition, what do different values of likelihood represent? To answer this, let us think about how products work.\n",
    "\n",
    "If we choose a high probability for our sample, a sequence where one value dominance the sequence, then we have:\n",
    "\n",
    "$.8 * .8  * .8 * .8 * .2 = .0819$\n",
    "\n",
    "Conversely, if we choose a low probability, we have:\n",
    "\n",
    "$.2 * .2  * .2 * .2  * .8 = .0012$\n",
    "\n",
    "The first likelihood value is greater than the second. Should we just choose the highest probability then, like $.99$? Well if we did, the first 4 entries this would yield\n",
    "a likelihood of:\n",
    "\n",
    "$.99 * .99  * .99 * .99  = .96$ , which is indeed high.\n",
    "\n",
    "And if $p=.8$ for the first 4 entries:\n",
    "\n",
    "$.8 * .8  * .8 * .8  = .4096$, which is much lower.\n",
    "\n",
    "But when we do see that 1 alligator:\n",
    "\n",
    "$.96 * .01 = .009$\n",
    "\n",
    "$.4096 * .2 = .0819$\n",
    "\n",
    "$1-p=.99$ dramatically scales down the likelihood, whereas even though at $p=.8$ our likelihood was much smaller initially, the scaling factor of $1-p=.2$ is much less of a change.\n",
    "The takeaway here is we are looking for a $p$ that maximizes the likelihood, and fits our data set just right. What we effectively want is the likelihood as a function of $p$.\n",
    "\n",
    "The parameter in this case, is our data $D$.\n",
    "\n",
    "$L(p;D) = \\prod\\limits_{i=0}^n P(S_i) = p^{4} * (1-p) $\n",
    "\n",
    "We can visualize here what the likelihood looks like:\n"
   ],
   "metadata": {
    "collapsed": false,
    "pycharm": {
     "name": "#%% md\n"
    }
   }
  },
  {
   "cell_type": "code",
   "execution_count": 2,
   "outputs": [
    {
     "data": {
      "text/plain": "<seaborn.axisgrid.FacetGrid at 0x11cde6eb8>"
     },
     "execution_count": 2,
     "metadata": {},
     "output_type": "execute_result"
    },
    {
     "data": {
      "text/plain": "<Figure size 720x720 with 1 Axes>",
      "image/png": "[encoded data removed]"
     },
     "metadata": {
      "needs_background": "light"
     },
     "output_type": "display_data"
    }
   ],
   "source": [
    "import numpy as np\n",
    "import pandas as pd\n",
    "import seaborn as sns\n",
    "import matplotlib.pyplot as plt\n",
    "\n",
    "# Import pseudo data set\n",
    "df = pd.read_csv('../../data/tabular/croc-aligator.csv')\n",
    "training_data = pd.DataFrame(\n",
    "    {'weight': df.weight\n",
    "        ,'length': df.length\n",
    "        , 'num_of_teeth': df.num_of_teeth\n",
    "        , 'angle_from_snout': df.angle_from_snout\n",
    "        , 'location': df.location\n",
    "        , 'species': df.species\n",
    "     }\n",
    ").to_numpy()\n",
    "\n",
    "def likelihood(p) -> float:\n",
    "    return p**4 * (1-p)\n",
    "\n",
    "likelihood_vect = np.vectorize(likelihood)\n",
    "domain = np.arange(0,1,.01)\n",
    "plot = sns.relplot(x=domain,y=likelihood_vect(domain))\n",
    "plot.fig.set_size_inches(10,10)\n",
    "plot.set(xlabel =\"p values\", ylabel = \"likelihood\")\n"
   ],
   "metadata": {
    "collapsed": false,
    "pycharm": {
     "name": "#%%\n"
    }
   }
  },
  {
   "cell_type": "markdown",
   "source": [
    "Wow! It does it fact seem like $p=.8$ fits our example data best. What about if we used this technique on our actual data?"
   ],
   "metadata": {
    "collapsed": false,
    "pycharm": {
     "name": "#%% md\n"
    }
   }
  },
  {
   "cell_type": "code",
   "execution_count": 91,
   "outputs": [
    {
     "data": {
      "text/plain": "<seaborn.axisgrid.FacetGrid at 0x126684dd8>"
     },
     "execution_count": 91,
     "metadata": {},
     "output_type": "execute_result"
    },
    {
     "data": {
      "text/plain": "<Figure size 720x720 with 1 Axes>",
      "image/png": "[encoded data removed]"
     },
     "metadata": {
      "needs_background": "light"
     },
     "output_type": "display_data"
    }
   ],
   "source": [
    "croc_count = len(df.query('species == \"a\"'))\n",
    "gator_count = len(df.query('species == \"c\"'))\n",
    "def likelihood(p) -> float:\n",
    "    return p**croc_count * (1-p)**gator_count\n",
    "\n",
    "likelihood_vect = np.vectorize(likelihood)\n",
    "domain = np.arange(0,1,.01)\n",
    "plot = sns.relplot(x=domain,y=likelihood_vect(domain))\n",
    "plot.fig.set_size_inches(10,10)\n",
    "plot.set(xlabel =\"p values\", ylabel = \"likelihood\")\n"
   ],
   "metadata": {
    "collapsed": false,
    "pycharm": {
     "name": "#%%\n"
    }
   }
  },
  {
   "cell_type": "markdown",
   "source": [
    "We can see roughly that our $p$ value is .5. While we are doing a visual inspection here of our parameter here, this is really an optimization problem.\n",
    "\n",
    "Given any parameter $\\theta$, we want the $\\text{argmax}_\\theta L(\\theta; Data) = \\prod\\limits_{i=0}^n P(S_i) = \\prod\\limits_{i=0}^n  \\theta^{S_i} * (1-\\theta)^{1 - S_i}  $.\n",
    "\n",
    "If we were to work this out analytically, we would get $\\theta = \\text{mean} $. Let's go ahead and see if this is true by encoding our croc/alligator data with our\n",
    "random variable and then taking the mean:\n"
   ],
   "metadata": {
    "collapsed": false,
    "pycharm": {
     "name": "#%% md\n"
    }
   }
  },
  {
   "cell_type": "code",
   "execution_count": 23,
   "outputs": [
    {
     "data": {
      "text/plain": "array(['c', 'c', 'c', 'c', 'c', 'c', 'c', 'c', 'c', 'c', 'c', 'c', 'c',\n       'c', 'c', 'c', 'c', 'c', 'c', 'c', 'c', 'c', 'c', 'c', 'c', 'c',\n       'c', 'c', 'c', 'c', 'c', 'c', 'c', 'c', 'c', 'c', 'c', 'c', 'c',\n       'c', 'c', 'c', 'a', 'a', 'a', 'a', 'a', 'a', 'a', 'a', 'a', 'a',\n       'a', 'a', 'a', 'a', 'a', 'a', 'a', 'a', 'a', 'a', 'a', 'a', 'a',\n       'a', 'a', 'a', 'a', 'a', 'a', 'a', 'a', 'a', 'a', 'a', 'a', 'a',\n       'a', 'a', 'a', 'a', 'a', 'a', 'a'], dtype=object)"
     },
     "execution_count": 23,
     "metadata": {},
     "output_type": "execute_result"
    }
   ],
   "source": [
    "def random_var_ber(x) -> int:\n",
    "    if x == 'c':\n",
    "        return 1\n",
    "    else:\n",
    "        return 0\n",
    "\n",
    "training_data[:, 5]\n"
   ],
   "metadata": {
    "collapsed": false,
    "pycharm": {
     "name": "#%%\n"
    }
   }
  },
  {
   "cell_type": "markdown",
   "source": [
    "WIP:\n",
    "\n",
    "We can go ahead and finally visualize our distribution now.\n",
    "\n",
    "A note on sampling:\n",
    "\n",
    "This makes sense since we actually have the same number of crocodile and alligator observations. While this was hopefully helpful for illustration purposes, we have no idea how this data was\n",
    "actually sampled or why we have the same number of observations for both species.\n",
    "\n",
    "\n",
    "Let us take a look at  $P( X_G = \\text{Location})$"
   ],
   "metadata": {
    "collapsed": false,
    "pycharm": {
     "name": "#%% md\n"
    }
   }
  },
  {
   "cell_type": "code",
   "execution_count": 20,
   "outputs": [
    {
     "data": {
      "text/plain": "<AxesSubplot:xlabel='species', ylabel='Probability'>"
     },
     "execution_count": 20,
     "metadata": {},
     "output_type": "execute_result"
    },
    {
     "data": {
      "text/plain": "<Figure size 500x500 with 1 Axes>",
      "image/png": "[encoded data removed]"
     },
     "metadata": {},
     "output_type": "display_data"
    }
   ],
   "source": [
    "##Visualize the data\n",
    "plt.subplots(figsize=(5,5))\n",
    "sns.histplot(data=df, x='species', stat='probability')\n"
   ],
   "metadata": {
    "collapsed": false,
    "pycharm": {
     "name": "#%%\n"
    }
   }
  },
  {
   "cell_type": "code",
   "execution_count": 19,
   "outputs": [
    {
     "data": {
      "text/plain": "<AxesSubplot:xlabel='location', ylabel='Probability'>"
     },
     "execution_count": 19,
     "metadata": {},
     "output_type": "execute_result"
    },
    {
     "data": {
      "text/plain": "<Figure size 576x576 with 1 Axes>",
      "image/png": "[encoded data removed]"
     },
     "metadata": {
      "needs_background": "light"
     },
     "output_type": "display_data"
    }
   ],
   "source": [
    "plt.subplots(figsize=(8,8))\n",
    "sns.histplot(data=df, x='location', stat='probability')"
   ],
   "metadata": {
    "collapsed": false,
    "pycharm": {
     "name": "#%%\n"
    }
   }
  },
  {
   "cell_type": "markdown",
   "source": [
    "It is interesting that we have such a high number of alligators/crocodiles in the states. Let's see if this changes\n",
    "as we condition on species\n",
    "\n",
    "\n"
   ],
   "metadata": {
    "collapsed": false,
    "pycharm": {
     "name": "#%% md\n"
    }
   }
  },
  {
   "cell_type": "markdown",
   "source": [
    "### Calculating likelihood\n",
    "\n",
    "We've seen how we can estimate the parameters for our distributions using MLE for $P(X_S=\\text{Crocodile})$ and $P(X_G)$. But recall that we actually want\n",
    "the conditional object $P( X_G | X_S = \\text{Crocodile})$ and $P( X_G | X_S = \\text{Alligator})$ instead of $P(X_G)$.\n",
    "\n",
    "What is the difference?\n",
    "\n",
    "Well $P( X_G | X_S = \\text{Crocodile})$\n",
    "\n",
    "How\n",
    "\n",
    "Let us assume that there are an equal amount of crocodiles and alligators in the world, (our empirical data also supports this) so we have $P(X_S=\\text{Crocodile}) = .5$\n",
    "\n",
    "Now $P( X_G | X_S = \\text{Crocodile})$. We are going to calculate this probability two different ways. The first logical way we can calculate this value, is to simply look\n",
    "at the data we have, reduce our set to crocodiles, and count how many crocodiles we've observed in the different geographic locations.\n",
    "\n",
    "\n"
   ],
   "metadata": {
    "collapsed": false,
    "pycharm": {
     "name": "#%% md\n"
    }
   }
  },
  {
   "cell_type": "code",
   "execution_count": 76,
   "outputs": [
    {
     "name": "stdout",
     "output_type": "stream",
     "text": [
      "P(G=South America|C) = 0.3095\n",
      "P(G=Africa C) = 0.2619\n",
      "P(G=US|C) = 0.0952\n",
      "P(G=South East Asia|C) = 0.119\n",
      "P(G=Australia|C) = 0.2143\n"
     ]
    },
    {
     "data": {
      "text/plain": "<AxesSubplot:xlabel='location', ylabel='Probability'>"
     },
     "execution_count": 76,
     "metadata": {},
     "output_type": "execute_result"
    },
    {
     "data": {
      "text/plain": "<Figure size 576x576 with 1 Axes>",
      "image/png": "[encoded data removed]"
     },
     "metadata": {
      "needs_background": "light"
     },
     "output_type": "display_data"
    }
   ],
   "source": [
    "crocs = df.query('species == \"c\"')\n",
    "\n",
    "total_crocs = len(crocs)\n",
    "south_american_crocs = len(crocs.query('location == \"South America\"'))\n",
    "african_crocs = len(crocs.query('location == \"Africa\"'))\n",
    "us_crocs = len(crocs.query('location == \"US\"'))\n",
    "south_east_asian_crocs = len(crocs.query('location == \"South East Asia\"'))\n",
    "australian_crocs = len(crocs.query('location == \"Australia\"'))\n",
    "\n",
    "print(f'P(G=South America|C) = {round(south_american_crocs/total_crocs, 4)}')\n",
    "print(f'P(G=Africa C) = {round(african_crocs/total_crocs,4)}')\n",
    "print(f'P(G=US|C) = {round(us_crocs/total_crocs,4)}')\n",
    "print(f'P(G=South East Asia|C) = {round(south_east_asian_crocs/total_crocs,4)}')\n",
    "print(f'P(G=Australia|C) = {round(australian_crocs/total_crocs,4)}')\n",
    "\n",
    "plt.subplots(figsize=(8,8))\n",
    "sns.histplot(data=df.query('species == \"c\"'), x='location', stat='probability')"
   ],
   "metadata": {
    "collapsed": false,
    "pycharm": {
     "name": "#%%\n"
    }
   }
  },
  {
   "cell_type": "markdown",
   "source": [
    "We can do the same thing for alligators\n"
   ],
   "metadata": {
    "collapsed": false,
    "pycharm": {
     "name": "#%% md\n"
    }
   }
  },
  {
   "cell_type": "code",
   "execution_count": 78,
   "outputs": [
    {
     "name": "stdout",
     "output_type": "stream",
     "text": [
      "P(G=South America|C) = 0.0233\n",
      "P(G=Africa C) = 0.0\n",
      "P(G=US|C) = 0.8372\n",
      "P(G=South East Asia|C) = 0.0\n",
      "P(G=Australia|C) = 0.0\n",
      "P(G=China|C) = 0.1395\n"
     ]
    },
    {
     "data": {
      "text/plain": "<AxesSubplot:xlabel='location', ylabel='Probability'>"
     },
     "execution_count": 78,
     "metadata": {},
     "output_type": "execute_result"
    },
    {
     "data": {
      "text/plain": "<Figure size 576x576 with 1 Axes>",
      "image/png": "[encoded data removed]"
     },
     "metadata": {
      "needs_background": "light"
     },
     "output_type": "display_data"
    }
   ],
   "source": [
    "gators = df.query('species == \"a\"')\n",
    "\n",
    "total_gators = len(gators)\n",
    "south_american_gators = len(gators.query('location == \"South America\"'))\n",
    "african_gators = len(gators.query('location == \"Africa\"'))\n",
    "us_gators = len(gators.query('location == \"US\"'))\n",
    "south_east_asian_gators = len(gators.query('location == \"South East Asia\"'))\n",
    "australian_gators = len(gators.query('location == \"Australia\"'))\n",
    "chinese_gators = len(gators.query('location == \"China\"'))\n",
    "\n",
    "print(f'P(G=South America|C) = {round(south_american_gators/total_gators, 4)}')\n",
    "print(f'P(G=Africa C) = {round(african_gators/total_gators,4)}')\n",
    "print(f'P(G=US|C) = {round(us_gators/total_gators,4)}')\n",
    "print(f'P(G=South East Asia|C) = {round(south_east_asian_gators/total_gators,4)}')\n",
    "print(f'P(G=Australia|C) = {round(australian_gators/total_gators,4)}')\n",
    "print(f'P(G=China|C) = {round(chinese_gators/total_gators,4)}')\n",
    "\n",
    "plt.subplots(figsize=(8,8))\n",
    "sns.histplot(data=df.query('species == \"a\"'), x='location', stat='probability')"
   ],
   "metadata": {
    "collapsed": false,
    "pycharm": {
     "name": "#%%\n"
    }
   }
  },
  {
   "cell_type": "code",
   "execution_count": null,
   "outputs": [],
   "source": [],
   "metadata": {
    "collapsed": false,
    "pycharm": {
     "name": "#%%\n"
    }
   }
  }
 ],
 "metadata": {
  "kernelspec": {
   "display_name": "Python 3",
   "language": "python",
   "name": "python3"
  },
  "language_info": {
   "codemirror_mode": {
    "name": "ipython",
    "version": 2
   },
   "file_extension": ".py",
   "mimetype": "text/x-python",
   "name": "python",
   "nbconvert_exporter": "python",
   "pygments_lexer": "ipython2",
   "version": "2.7.6"
  }
 },
 "nbformat": 4,
 "nbformat_minor": 0
}