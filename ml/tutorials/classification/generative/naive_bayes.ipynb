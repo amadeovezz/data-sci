{
 "cells": [
  {
   "cell_type": "markdown",
   "metadata": {
    "collapsed": true,
    "pycharm": {
     "name": "#%% md\n"
    }
   },
   "source": [
    "# Naive Bayes\n",
    "\n",
    "## Problem\n",
    "\n",
    "We will continue our classification problem from our EDA. To start we will only focus on using one discrete feature to make our classification:\n",
    "\n",
    "- geographic location\n",
    "\n",
    "## Choosing a model\n",
    "\n",
    "How can we come up with a probabilistic model to make our classification?\n",
    "\n",
    "Well let us think about what data we have. We have observed samples of crocodiles and alligators in a variety of geographic locations.\n",
    "And we want to use this geographic data to build a model, that helps us distinguish between the two species classes.\n",
    "\n",
    "So, we want to determine the probability of a crocodile (or alligator), given that we have observed some data about its geographic location. Additionally, we\n",
    "probably want to compare this value to the probability that we have an alligator, given we know its geographic location.\n",
    "\n",
    "We can translate this directly into a probabilistic statement: $P(\\text{Crocodile} | \\text{Geographic})$ vs $P(\\text{Alligator} | \\text{Geographic})$\n",
    "\n",
    "By bayes rules we have:\n",
    "\n",
    "$P(\\text{Crocodile} | \\text{Geographic}) = \\dfrac{P(\\text{Crocodile} \\cap \\text{Geographic}) }{P(\\text{Geographic})}$\n",
    "\n",
    "And: $P(\\text{Alligator} | \\text{Geographic}) = \\dfrac{P(\\text{Alligator} \\cap \\text{Geographic}) }{P(\\text{Geographic})}$\n",
    "\n",
    "And to determine whether the animal we are looking at is a crocodile or alligator we can just choose the larger probability!\n",
    "\n",
    "### Joint probabilities and the chain rule\n",
    "\n",
    "Notice that the numerator of our equation does not change in either instances? This value will not affect our comparison in any way.\n",
    "Therefore, we can just focus on numerator: $P(\\text{Crocodile} \\cap \\text{Geographic})$\n",
    "\n",
    "This object is referred to as the joint probability, and is the central object of focus in many problems. There are some issues with the joint probability\n",
    "however!\n",
    "\n",
    "It can be very difficult to calculate! Both in terms of size requirements and data availability.\n",
    "\n",
    "<> TODO: Let us give a concrete example. Say we have $P(X_1, X_2,)$\n",
    "\n",
    "It is often much more common to decompose this object into many smaller objects, which are much more manageable to compute. This is done using the chain rule, which we\n",
    "can re-write this as: $P(\\text{Crocodile}) * P( \\text{Geographic} | \\text{Crocodile})$\n",
    "\n",
    "Okay great! So this these are the probabilities we would like to calculate.\n",
    "\n",
    "- $P(\\text{Crocodile})$ is called our prior\n",
    "- $P( \\text{Geographic} | \\text{Crocodile})$ is called the likelihood\n",
    "\n",
    "Note will just focus on calculating the probability for crocodiles since the probability for alligators will also follow the same logic.\n"
   ]
  },
  {
   "cell_type": "code",
   "source": [
    "import numpy as np\n",
    "import pandas as pd\n",
    "import seaborn as sns\n",
    "import matplotlib.pyplot as plt\n",
    "\n",
    "# Import pseudo data set\n",
    "df = pd.read_csv('../../data/tabular/croc-aligator.csv')\n",
    "training_data = pd.DataFrame(\n",
    "    {'weight': df.weight\n",
    "        ,'length': df.length\n",
    "        , 'num_of_teeth': df.num_of_teeth\n",
    "        , 'angle_from_snout': df.angle_from_snout\n",
    "        , 'location': df.location\n",
    "        , 'species': df.species\n",
    "     }\n",
    ").to_numpy()\n"
   ],
   "metadata": {
    "collapsed": false,
    "pycharm": {
     "name": "#%%\n"
    }
   },
   "execution_count": 82,
   "outputs": []
  },
  {
   "cell_type": "markdown",
   "source": [
    "### Distributions\n",
    "\n",
    "So we know the probabilities we would like to calculate. Before we continue let us get a bit more rigorous so we can extend these ideas to more complicated problems in the future.\n",
    "\n",
    "#### Sample space and random variables\n",
    "\n",
    "What is our sample space?\n",
    "\n",
    "Well we have two sets, the first is just the possible classes our species belong to:  $\\text{Species} = \\{ \\text{croc}, \\text{alligator} \\}$.\n",
    "\n",
    "The second is the possible geographic locations crocs/gators live: $\\text{Geo} = \\{ \\text{us}, \\text{mexico}, \\text{africa}, \\text{south-east asia}, \\text{australia},  \\text{south-america} \\}$,\n",
    "\n",
    "It is useful to encode the possible outcomes of our sets as real numbers, so we can define some random variables $S$, $G$  on our sets.\n",
    "\n",
    "Let $s \\in \\text{Species}, g \\in \\text{Geo}$\n",
    "\n",
    "$\n",
    "S(s) =\n",
    "\\begin{cases}\n",
    "          1, & \\text{ } s = \\text{croc} , \\\\\n",
    "          0, & \\text{ } s = \\text{alligator}   \\\\\n",
    "  \\end{cases}\n",
    "$\n",
    "\n",
    "and\n",
    "\n",
    "$\n",
    "G(g) =\n",
    "\\begin{cases}\n",
    "          5, & \\text{ } g = \\text{us} , \\\\\n",
    "          4, & \\text{ } g = \\text{mexico} , \\\\\n",
    "          3, & \\text{ } g = \\text{africa} , \\\\\n",
    "          2, & \\text{ } g = \\text{south-east asia} , \\\\\n",
    "          1, & \\text{ } g = \\text{australia}   \\\\\n",
    "          0, & \\text{ } g = \\text{south-america}   \\\\\n",
    "  \\end{cases}\n",
    "$\n",
    "\n",
    "\n",
    "What distributions can we use to model our sample spaces?\n",
    "\n",
    "Well for our $\\text{Species}$ outcomes, we just need to model two states, and in our $\\text{Geo}$ outcomes, we need to model 6 states.\n",
    "\n",
    "We can use the Bernoulli distribution for the former and the Categorical for the latter.\n",
    "\n",
    "#### Bernoulli\n",
    "\n",
    "Okay great! Now the only thing left to do is determine the parameters for our distributions. For our Bernoulli distribution we just need a parameter $p$.\n",
    "\n",
    "Once we have $p$, we can use the PMF:\n",
    "\n",
    "$\n",
    "P(S) = p^{S} * (1-p)^{1 - S}\n",
    "$\n",
    "\n",
    "Where\n",
    "$\n",
    "P(S(s)=1) = p^{1} * (1-p)^{1 - 1} =  p\n",
    "$\n",
    "and\n",
    "$\n",
    "P(S(s)=0) = p^{0} * (1-p)^{1 - 0} = 1-p\n",
    "$\n",
    "\n",
    "But how exactly do we determine what $p$ is? We don't actually know the true proportion of crocodiles to alligators in the world. All we have is some data that\n",
    "was collected by some agents in the field. This means we must estimate this parameter somehow! We will use a technique called the Maximum Likelihood Estimation (MLE).\n",
    "\n",
    "##### MLE\n",
    "\n",
    "Note: This is a deep topic, so we will only do a shallow dive here.\n",
    "\n",
    "The main idea behind this technique, is we will look at the data we have, and choose a value of $p$ that \"most likely fits\" what we have observed. What does \"most likely fits\"\n",
    "even mean? Let us look at a concrete example. Say that our the sample of crocodiles and alligators looks like this - that is a sequence of $1$'s for crocodiles and $0$'s for alligators:\n",
    "\n",
    "$\\text{Data} = \\{1,1,1,1,0\\}$. One question we can ask, is what the probability of observing this particular sequence is? Well in order to answer\n",
    "this question, we need two things:\n",
    "\n",
    "- $P(S=1)$ and $P(S=0)$, so $p$\n",
    "- i.i.d assumption\n",
    "\n",
    "Let us assume that we do have both the probability and the i.i.d assumption. Then all we need to do is:\n",
    "\n",
    "$P(S=1)^4 * P(S=0)^1 = \\prod\\limits_{i=0}^n P(S_i)$\n",
    "\n",
    "This calculation is known as the likelihood of a dataset.\n",
    "\n",
    "Now let us think for a second. If we had to guess $p$, what value do we think would best represent this data set. Or in other words would likely\n",
    "fit this data set? Well there are $4 \\text{crocodile}$ observations and $1 \\text{alligator}$ observations. Since there are far more $\\text{crocodiles}$ then $\\text{alligators}$,\n",
    "a reasonable guess might be a high value of $p$, maybe $p=.7$. Indeed this would be a good guess.\n",
    "\n",
    "Let us also think about how products work. If choose a high probability for a value that is seen often, then this product will be high.\n",
    "\n",
    "$.8 * .8  * .8 * .8 * .2 = .0819$\n",
    "\n",
    "Conversely, if we choose a low probability for a value that is seen often, then this product will be low.\n",
    "\n",
    "$.2 * .2  * .2 * .2  * .8 = .0012$\n",
    "\n",
    "Should we just not choose the highest probability then, like $.99$? Well if we did, for the first 4 entries this would yield:\n",
    "\n",
    "$.99 * .99  * .99 * .99  = .96$\n",
    "\n",
    "And if $p=.8$ for the first 4 entries:\n",
    "\n",
    "$.8 * .8  * .8 * .8  = .4096$.\n",
    "\n",
    "But when we do see that 1 alligator:\n",
    "\n",
    "$.96 * .01 = .009$\n",
    "\n",
    "$.4096 * .2 = .0819$\n",
    "\n",
    "The overestimate dramatically scales down the likelihood of the first $4$ entries, whereas even though our likelihood was much smaller initially for $p=.8$, the scaling factor of $1-p$ is much less of a change.\n",
    "\n",
    "Another helpful piece of intuition is to think of the weather forecast. Given advancements in weather technology, let us assume that the weather forcast is accurate.\n",
    "So if the weather is reported with 80% change to be sunny for three days in a row, it is most likely going to be sunny. However, if it instead rains 3 days in a row\n",
    "this was a very unlikely situation.\n",
    "\n",
    "In any case we are looking for a $p$ that maximizes the likelihood, and fits our data set just right. What we effectively want is the likelihood as a function of $p$.\n",
    "The parameter in this case, is our data $D$.\n",
    "\n",
    "$L(p;D) = \\prod\\limits_{i=0}^n P(S_i) = p^{4} * (1-p) $\n",
    "\n",
    "We can visualize here what the likelihood looks like:\n",
    "\n"
   ],
   "metadata": {
    "collapsed": false,
    "pycharm": {
     "name": "#%% md\n"
    }
   }
  },
  {
   "cell_type": "code",
   "execution_count": 87,
   "outputs": [
    {
     "data": {
      "text/plain": "<Figure size 720x720 with 1 Axes>",
      "image/png": "[encoded data removed]"
     },
     "metadata": {
      "needs_background": "light"
     },
     "output_type": "display_data"
    }
   ],
   "source": [
    "def likelihood(p) -> float:\n",
    "    return p**4 * (1-p)\n",
    "\n",
    "likelihood_vect = np.vectorize(likelihood)\n",
    "domain = np.arange(0,1,.01)\n",
    "plot = sns.relplot(x=domain,y=likelihood_vect(domain))\n",
    "plot.fig.set_size_inches(10,10)\n",
    "plot.set(xlabel =\"p values\", ylabel = \"likelihood\")\n"
   ],
   "metadata": {
    "collapsed": false,
    "pycharm": {
     "name": "#%%\n"
    }
   }
  },
  {
   "cell_type": "markdown",
   "source": [
    "Wow! It does it fact seem like $p=.8$ fits our example data best. What about if we used this technique on our actual data?"
   ],
   "metadata": {
    "collapsed": false,
    "pycharm": {
     "name": "#%% md\n"
    }
   }
  },
  {
   "cell_type": "code",
   "execution_count": 91,
   "outputs": [
    {
     "data": {
      "text/plain": "<seaborn.axisgrid.FacetGrid at 0x126684dd8>"
     },
     "execution_count": 91,
     "metadata": {},
     "output_type": "execute_result"
    },
    {
     "data": {
      "text/plain": "<Figure size 720x720 with 1 Axes>",
      "image/png": "[encoded data removed]"
     },
     "metadata": {
      "needs_background": "light"
     },
     "output_type": "display_data"
    }
   ],
   "source": [
    "croc_count = len(df.query('species == \"a\"'))\n",
    "gator_count = len(df.query('species == \"c\"'))\n",
    "def likelihood(p) -> float:\n",
    "    return p**croc_count * (1-p)**gator_count\n",
    "\n",
    "likelihood_vect = np.vectorize(likelihood)\n",
    "domain = np.arange(0,1,.01)\n",
    "plot = sns.relplot(x=domain,y=likelihood_vect(domain))\n",
    "plot.fig.set_size_inches(10,10)\n",
    "plot.set(xlabel =\"p values\", ylabel = \"likelihood\")\n"
   ],
   "metadata": {
    "collapsed": false,
    "pycharm": {
     "name": "#%%\n"
    }
   }
  },
  {
   "cell_type": "markdown",
   "source": [
    "We can see roughly that our $p$ value is .5. While we are doing a visual inspection here of our parameter here, this is really an optimization problem.\n",
    "\n",
    "Given any parameter $\\theta$, we want the $\\text{argmax}_\\theta = L(\\theta; Data)$. If we were to work this out analytically, we would get\n",
    "$\\theta = \\text{mean} $.\n",
    "\n",
    "We can go ahead and finally visualize our distribution now.\n",
    "\n",
    "\n",
    "A note on sampling:\n",
    "\n",
    "This makes sense since we actually have the same number of crocodile and alligator observations. While this was hopefully helpful for illustration purposes, we have no idea how this data was\n",
    "actually sampled or why we have the same number of observations for both species.\n",
    "\n",
    "\n",
    "\n",
    "\n",
    "\n",
    "Let us take a look at  $P( X_G = \\text{Geographic})$"
   ],
   "metadata": {
    "collapsed": false,
    "pycharm": {
     "name": "#%% md\n"
    }
   }
  },
  {
   "cell_type": "code",
   "execution_count": null,
   "outputs": [],
   "source": [
    "##Visualize the data\n",
    "plt.subplots(figsize=(8,8))\n",
    "sns.histplot(data=df, x='species', stat='probability')\n"
   ],
   "metadata": {
    "collapsed": false,
    "pycharm": {
     "name": "#%%\n"
    }
   }
  },
  {
   "cell_type": "code",
   "execution_count": 19,
   "outputs": [
    {
     "data": {
      "text/plain": "<AxesSubplot:xlabel='location', ylabel='Probability'>"
     },
     "execution_count": 19,
     "metadata": {},
     "output_type": "execute_result"
    },
    {
     "data": {
      "text/plain": "<Figure size 576x576 with 1 Axes>",
      "image/png": "[encoded data removed]"
     },
     "metadata": {
      "needs_background": "light"
     },
     "output_type": "display_data"
    }
   ],
   "source": [
    "plt.subplots(figsize=(8,8))\n",
    "sns.histplot(data=df, x='location', stat='probability')"
   ],
   "metadata": {
    "collapsed": false,
    "pycharm": {
     "name": "#%%\n"
    }
   }
  },
  {
   "cell_type": "markdown",
   "source": [
    "It is interesting that we have such a high number of alligators/crocodiles in the states. Let's see if this changes\n",
    "as we condition on species\n",
    "\n",
    "\n"
   ],
   "metadata": {
    "collapsed": false,
    "pycharm": {
     "name": "#%% md\n"
    }
   }
  },
  {
   "cell_type": "markdown",
   "source": [
    "### Calculating our probabilities\n",
    "\n",
    "We need to calculate the following two probabilities:\n",
    "\n",
    "- $P(X_S=\\text{Crocodile})$\n",
    "- $P( X_G | X_S = \\text{Crocodile})$\n",
    "\n",
    "Let us assume that there are an equal amount of crocodiles and alligators in the world, (our empirical data also supports this) so we have $P(X_S=\\text{Crocodile}) = .5$\n",
    "\n",
    "Now $P( X_G | X_S = \\text{Crocodile})$. We are going to calculate this probability two different ways. The first logical way we can calculate this value, is to simply look\n",
    "at the data we have, reduce our set to crocodiles, and count how many crocodiles we've observed in the different geographic locations.\n",
    "\n",
    "\n"
   ],
   "metadata": {
    "collapsed": false,
    "pycharm": {
     "name": "#%% md\n"
    }
   }
  },
  {
   "cell_type": "code",
   "execution_count": 76,
   "outputs": [
    {
     "name": "stdout",
     "output_type": "stream",
     "text": [
      "P(G=South America|C) = 0.3095\n",
      "P(G=Africa C) = 0.2619\n",
      "P(G=US|C) = 0.0952\n",
      "P(G=South East Asia|C) = 0.119\n",
      "P(G=Australia|C) = 0.2143\n"
     ]
    },
    {
     "data": {
      "text/plain": "<AxesSubplot:xlabel='location', ylabel='Probability'>"
     },
     "execution_count": 76,
     "metadata": {},
     "output_type": "execute_result"
    },
    {
     "data": {
      "text/plain": "<Figure size 576x576 with 1 Axes>",
      "image/png": "[encoded data removed]"
     },
     "metadata": {
      "needs_background": "light"
     },
     "output_type": "display_data"
    }
   ],
   "source": [
    "crocs = df.query('species == \"c\"')\n",
    "\n",
    "total_crocs = len(crocs)\n",
    "south_american_crocs = len(crocs.query('location == \"South America\"'))\n",
    "african_crocs = len(crocs.query('location == \"Africa\"'))\n",
    "us_crocs = len(crocs.query('location == \"US\"'))\n",
    "south_east_asian_crocs = len(crocs.query('location == \"South East Asia\"'))\n",
    "australian_crocs = len(crocs.query('location == \"Australia\"'))\n",
    "\n",
    "print(f'P(G=South America|C) = {round(south_american_crocs/total_crocs, 4)}')\n",
    "print(f'P(G=Africa C) = {round(african_crocs/total_crocs,4)}')\n",
    "print(f'P(G=US|C) = {round(us_crocs/total_crocs,4)}')\n",
    "print(f'P(G=South East Asia|C) = {round(south_east_asian_crocs/total_crocs,4)}')\n",
    "print(f'P(G=Australia|C) = {round(australian_crocs/total_crocs,4)}')\n",
    "\n",
    "plt.subplots(figsize=(8,8))\n",
    "sns.histplot(data=df.query('species == \"c\"'), x='location', stat='probability')"
   ],
   "metadata": {
    "collapsed": false,
    "pycharm": {
     "name": "#%%\n"
    }
   }
  },
  {
   "cell_type": "markdown",
   "source": [
    "We can do the same thing for alligators\n"
   ],
   "metadata": {
    "collapsed": false,
    "pycharm": {
     "name": "#%% md\n"
    }
   }
  },
  {
   "cell_type": "code",
   "execution_count": 78,
   "outputs": [
    {
     "name": "stdout",
     "output_type": "stream",
     "text": [
      "P(G=South America|C) = 0.0233\n",
      "P(G=Africa C) = 0.0\n",
      "P(G=US|C) = 0.8372\n",
      "P(G=South East Asia|C) = 0.0\n",
      "P(G=Australia|C) = 0.0\n",
      "P(G=China|C) = 0.1395\n"
     ]
    },
    {
     "data": {
      "text/plain": "<AxesSubplot:xlabel='location', ylabel='Probability'>"
     },
     "execution_count": 78,
     "metadata": {},
     "output_type": "execute_result"
    },
    {
     "data": {
      "text/plain": "<Figure size 576x576 with 1 Axes>",
      "image/png": "[encoded data removed]"
     },
     "metadata": {
      "needs_background": "light"
     },
     "output_type": "display_data"
    }
   ],
   "source": [
    "gators = df.query('species == \"a\"')\n",
    "\n",
    "total_gators = len(gators)\n",
    "south_american_gators = len(gators.query('location == \"South America\"'))\n",
    "african_gators = len(gators.query('location == \"Africa\"'))\n",
    "us_gators = len(gators.query('location == \"US\"'))\n",
    "south_east_asian_gators = len(gators.query('location == \"South East Asia\"'))\n",
    "australian_gators = len(gators.query('location == \"Australia\"'))\n",
    "chinese_gators = len(gators.query('location == \"China\"'))\n",
    "\n",
    "print(f'P(G=South America|C) = {round(south_american_gators/total_gators, 4)}')\n",
    "print(f'P(G=Africa C) = {round(african_gators/total_gators,4)}')\n",
    "print(f'P(G=US|C) = {round(us_gators/total_gators,4)}')\n",
    "print(f'P(G=South East Asia|C) = {round(south_east_asian_gators/total_gators,4)}')\n",
    "print(f'P(G=Australia|C) = {round(australian_gators/total_gators,4)}')\n",
    "print(f'P(G=China|C) = {round(chinese_gators/total_gators,4)}')\n",
    "\n",
    "plt.subplots(figsize=(8,8))\n",
    "sns.histplot(data=df.query('species == \"a\"'), x='location', stat='probability')"
   ],
   "metadata": {
    "collapsed": false,
    "pycharm": {
     "name": "#%%\n"
    }
   }
  },
  {
   "cell_type": "code",
   "execution_count": null,
   "outputs": [],
   "source": [],
   "metadata": {
    "collapsed": false,
    "pycharm": {
     "name": "#%%\n"
    }
   }
  }
 ],
 "metadata": {
  "kernelspec": {
   "display_name": "Python 3",
   "language": "python",
   "name": "python3"
  },
  "language_info": {
   "codemirror_mode": {
    "name": "ipython",
    "version": 2
   },
   "file_extension": ".py",
   "mimetype": "text/x-python",
   "name": "python",
   "nbconvert_exporter": "python",
   "pygments_lexer": "ipython2",
   "version": "2.7.6"
  }
 },
 "nbformat": 4,
 "nbformat_minor": 0
}